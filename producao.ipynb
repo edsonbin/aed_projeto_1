{
  "nbformat": 4,
  "nbformat_minor": 0,
  "metadata": {
    "file_extension": ".py",
    "kernelspec": {
      "display_name": "Python 3",
      "language": "python",
      "name": "python3"
    },
    "language_info": {
      "codemirror_mode": {
        "name": "ipython",
        "version": 3
      },
      "file_extension": ".py",
      "mimetype": "text/x-python",
      "name": "python",
      "nbconvert_exporter": "python",
      "pygments_lexer": "ipython3",
      "version": "3.7.3"
    },
    "mimetype": "text/x-python",
    "name": "python",
    "npconvert_exporter": "python",
    "pygments_lexer": "ipython3",
    "version": 3,
    "colab": {
      "name": "producao.ipynb",
      "provenance": [],
      "collapsed_sections": []
    }
  },
  "cells": [
    {
      "cell_type": "markdown",
      "metadata": {
        "id": "9YnAXwzzgeCt",
        "colab_type": "text"
      },
      "source": [
        "# Projeto #1 - Análise Exploratória de Dados\n",
        "\n",
        "Antes de começar, leia as [Instruções](https://github.com/thvmm/pos-ds-ia/tree/master/projeto_1#instru%C3%A7%C3%B5es) e os [Critérios de Avaliação](https://github.com/thvmm/pos-ds-ia/tree/master/projeto_1#crit%C3%A9rios-de-avalia%C3%A7%C3%A3o)\n"
      ]
    },
    {
      "cell_type": "markdown",
      "metadata": {
        "id": "gKy7UMsigeCv",
        "colab_type": "text"
      },
      "source": [
        "### 1) **(5%)** Qual a base escolhida e qual seu interesse nela?"
      ]
    },
    {
      "cell_type": "markdown",
      "metadata": {
        "id": "HhPOPw1hgeCw",
        "colab_type": "text"
      },
      "source": [
        "*Indique o link da base no Kaggle e explique em um parágrafo curto por que essa base é interessante para você.*"
      ]
    },
    {
      "cell_type": "markdown",
      "metadata": {
        "id": "rTLzSzO9geCx",
        "colab_type": "text"
      },
      "source": [
        "*Base* \n",
        "\n",
        "Link: https://www.kaggle.com/shahir/protein-data-set#pdb_data_no_dups.csv\n",
        "\n",
        "Descrição: Banco de dados que contém informações estruturais a respeito proteínas cristalizadas.\n",
        "\n",
        "Motivação: Minha primeira opção de tcc na graduação foi sobre este tema, mas tive que suspender e curso e ao voltar troquei de orientador e de tema. Porém mantenho interesse em bioinformática.\n"
      ]
    },
    {
      "cell_type": "markdown",
      "metadata": {
        "id": "EeRlmdrHgeCy",
        "colab_type": "text"
      },
      "source": [
        "### 2) **(5%)** Descrição básica do conjunto de dados escolhido pelo aluno (1 parágrafo).\n",
        "- Identificação da variável a serem trabalhadas\n",
        "- Classificação das variáveis como: contínua ou discreta.\n"
      ]
    },
    {
      "cell_type": "markdown",
      "metadata": {
        "id": "syZHnOMngeCy",
        "colab_type": "text"
      },
      "source": [
        "*Descrição da base e suas variáveis*\n",
        "\n",
        "Este dataset tem origem em arquivo PDB - [Proteín Data Bank] (http://www.rcsb.org/pdb/) - um banco de dados de informações estruturais sobre proteínas \n",
        "\n",
        "1. __structureid__ - _não será trabalhado_ - Identificador do registro\n",
        "2. __classification__ - categórica - classificação quanto função de molécula\n",
        "    * Hidrolase: enzizamas que assiciadas à agua qubram ligações de moléculas\n",
        "    * Tranferase: enzimas que transportam partes de uma molécula para outra molécula\n",
        "    * Outras: outros funções\n",
        "3. __experimentalTechnique__ - categórica - A técnica que foi usada para obter os dados extruturais\n",
        "4. __macromoleculeType__ - categórica - O tipo da macromolécula\n",
        "    * Proteína\n",
        "    * Proteína#DNA\n",
        "    * Outras\n",
        "5. __residueCount__ - __discreta__ - quantidade de residuos que forman a molécula\n",
        "6. __resolution__ - __contínua__ - Medida da qualidade dos dados coletados a respeito da estrutura\n",
        "7. __structureMolecularWeight__ - __continua__ - Peso molecular \n",
        "8. __crystallizationMethod__ - __categórica__ -\n",
        "9. __crystallizationTempK__ - __contínua___ - temperatura de cristalização\n",
        "10. __densityMatthews__ - __contínua__ - densidade do cristal \n",
        "11. __densityPercentSol__ - __contínua__  - densidade do solvente - a estrtura observada está imersa em um solvente, está é densidade calculada do conteúdo solvente mais a do solvente\n",
        "12. __pdbxDetails__ - __não será usada__ __string(descritiva)__ - contem infomações diversas extarídas do arquivo pdbx original\n",
        "13. __phValue__ - __contínua__ - o PH de onde o cristla foi cultivado\n",
        "14. __publicationYear__ __não será usada__- __contínua__ o ano da publicação do registro\n",
        "\n"
      ]
    },
    {
      "cell_type": "markdown",
      "metadata": {
        "id": "93bscQuugeCz",
        "colab_type": "text"
      },
      "source": [
        "### 2) **(15%)** Faça uma avaliação descritiva da sua base. Quantas linhas ela possui? Quais os tipos de dados? Quantas e quais features possuem?\n",
        "\n",
        "Cada variável escolhida pelo aluno precisa passar por ao menos 1 pré-processamento. O pré-processamento pode ser (mas não está limitado a):\n",
        "- Checagem se os valores estão dentro de um limite permitido ou razoável.\n",
        "- Tratamento de valores ausentes por eliminação ou substituição.\n",
        "- Conversão do tipo de dados.\n"
      ]
    },
    {
      "cell_type": "code",
      "metadata": {
        "id": "VhcAOM030ffq",
        "colab_type": "code",
        "colab": {
          "base_uri": "https://localhost:8080/",
          "height": 238
        },
        "outputId": "c9c8dbc9-0313-4dd5-b200-81e389c4085d"
      },
      "source": [
        "!pip install pandas-profiling"
      ],
      "execution_count": 36,
      "outputs": [
        {
          "output_type": "stream",
          "text": [
            "Requirement already satisfied: pandas-profiling in /usr/local/lib/python3.6/dist-packages (1.4.1)\n",
            "Requirement already satisfied: jinja2>=2.8 in /usr/local/lib/python3.6/dist-packages (from pandas-profiling) (2.10.3)\n",
            "Requirement already satisfied: six>=1.9 in /usr/local/lib/python3.6/dist-packages (from pandas-profiling) (1.12.0)\n",
            "Requirement already satisfied: pandas>=0.19 in /usr/local/lib/python3.6/dist-packages (from pandas-profiling) (0.25.3)\n",
            "Requirement already satisfied: matplotlib>=1.4 in /usr/local/lib/python3.6/dist-packages (from pandas-profiling) (3.1.2)\n",
            "Requirement already satisfied: MarkupSafe>=0.23 in /usr/local/lib/python3.6/dist-packages (from jinja2>=2.8->pandas-profiling) (1.1.1)\n",
            "Requirement already satisfied: pytz>=2017.2 in /usr/local/lib/python3.6/dist-packages (from pandas>=0.19->pandas-profiling) (2018.9)\n",
            "Requirement already satisfied: python-dateutil>=2.6.1 in /usr/local/lib/python3.6/dist-packages (from pandas>=0.19->pandas-profiling) (2.6.1)\n",
            "Requirement already satisfied: numpy>=1.13.3 in /usr/local/lib/python3.6/dist-packages (from pandas>=0.19->pandas-profiling) (1.17.4)\n",
            "Requirement already satisfied: kiwisolver>=1.0.1 in /usr/local/lib/python3.6/dist-packages (from matplotlib>=1.4->pandas-profiling) (1.1.0)\n",
            "Requirement already satisfied: cycler>=0.10 in /usr/local/lib/python3.6/dist-packages (from matplotlib>=1.4->pandas-profiling) (0.10.0)\n",
            "Requirement already satisfied: pyparsing!=2.0.4,!=2.1.2,!=2.1.6,>=2.0.1 in /usr/local/lib/python3.6/dist-packages (from matplotlib>=1.4->pandas-profiling) (2.4.5)\n",
            "Requirement already satisfied: setuptools in /usr/local/lib/python3.6/dist-packages (from kiwisolver>=1.0.1->matplotlib>=1.4->pandas-profiling) (42.0.1)\n"
          ],
          "name": "stdout"
        }
      ]
    },
    {
      "cell_type": "code",
      "metadata": {
        "id": "Xu4DZS5VgeC0",
        "colab_type": "code",
        "colab": {
          "base_uri": "https://localhost:8080/",
          "height": 34
        },
        "outputId": "bd1f2354-9a9a-4f6f-8160-237ab404b268"
      },
      "source": [
        "# Implemente sua análise aqui. Use mais blocos se achar que ficará mais organizado.\n",
        "\n",
        "#importa bibliotecas\n",
        "import numpy as np\n",
        "import pandas as pd\n",
        "import pandas_profiling\n",
        "\n",
        "#lê arquivo do google drive\n",
        "from google.colab import drive\n",
        "drive.mount('/content/drive', force_remount=True)\n",
        "arquivo_base = \"/content/drive/My Drive/Colab Notebooks/pdb_data_no_dups.csv\"\n",
        "df = pd.read_csv(arquivo_base)\n"
      ],
      "execution_count": 37,
      "outputs": [
        {
          "output_type": "stream",
          "text": [
            "Mounted at /content/drive\n"
          ],
          "name": "stdout"
        }
      ]
    },
    {
      "cell_type": "code",
      "metadata": {
        "id": "eNEC_IcBgsV3",
        "colab_type": "code",
        "colab": {
          "base_uri": "https://localhost:8080/",
          "height": 711
        },
        "outputId": "9b456fa3-e694-4214-db0c-b3cf5c0769c7"
      },
      "source": [
        "#olhnado os dados\n",
        "df"
      ],
      "execution_count": 2,
      "outputs": [
        {
          "output_type": "execute_result",
          "data": {
            "text/html": [
              "<div>\n",
              "<style scoped>\n",
              "    .dataframe tbody tr th:only-of-type {\n",
              "        vertical-align: middle;\n",
              "    }\n",
              "\n",
              "    .dataframe tbody tr th {\n",
              "        vertical-align: top;\n",
              "    }\n",
              "\n",
              "    .dataframe thead th {\n",
              "        text-align: right;\n",
              "    }\n",
              "</style>\n",
              "<table border=\"1\" class=\"dataframe\">\n",
              "  <thead>\n",
              "    <tr style=\"text-align: right;\">\n",
              "      <th></th>\n",
              "      <th>structureId</th>\n",
              "      <th>classification</th>\n",
              "      <th>experimentalTechnique</th>\n",
              "      <th>macromoleculeType</th>\n",
              "      <th>residueCount</th>\n",
              "      <th>resolution</th>\n",
              "      <th>structureMolecularWeight</th>\n",
              "      <th>crystallizationMethod</th>\n",
              "      <th>crystallizationTempK</th>\n",
              "      <th>densityMatthews</th>\n",
              "      <th>densityPercentSol</th>\n",
              "      <th>pdbxDetails</th>\n",
              "      <th>phValue</th>\n",
              "      <th>publicationYear</th>\n",
              "    </tr>\n",
              "  </thead>\n",
              "  <tbody>\n",
              "    <tr>\n",
              "      <th>0</th>\n",
              "      <td>100D</td>\n",
              "      <td>DNA-RNA HYBRID</td>\n",
              "      <td>X-RAY DIFFRACTION</td>\n",
              "      <td>DNA/RNA Hybrid</td>\n",
              "      <td>20</td>\n",
              "      <td>1.90</td>\n",
              "      <td>6360.30</td>\n",
              "      <td>VAPOR DIFFUSION, HANGING DROP</td>\n",
              "      <td>NaN</td>\n",
              "      <td>1.78</td>\n",
              "      <td>30.89</td>\n",
              "      <td>pH 7.00, VAPOR DIFFUSION, HANGING DROP</td>\n",
              "      <td>7.0</td>\n",
              "      <td>1994.0</td>\n",
              "    </tr>\n",
              "    <tr>\n",
              "      <th>1</th>\n",
              "      <td>101D</td>\n",
              "      <td>DNA</td>\n",
              "      <td>X-RAY DIFFRACTION</td>\n",
              "      <td>DNA</td>\n",
              "      <td>24</td>\n",
              "      <td>2.25</td>\n",
              "      <td>7939.35</td>\n",
              "      <td>NaN</td>\n",
              "      <td>NaN</td>\n",
              "      <td>2.00</td>\n",
              "      <td>38.45</td>\n",
              "      <td>NaN</td>\n",
              "      <td>NaN</td>\n",
              "      <td>1995.0</td>\n",
              "    </tr>\n",
              "    <tr>\n",
              "      <th>2</th>\n",
              "      <td>101M</td>\n",
              "      <td>OXYGEN TRANSPORT</td>\n",
              "      <td>X-RAY DIFFRACTION</td>\n",
              "      <td>Protein</td>\n",
              "      <td>154</td>\n",
              "      <td>2.07</td>\n",
              "      <td>18112.80</td>\n",
              "      <td>NaN</td>\n",
              "      <td>NaN</td>\n",
              "      <td>3.09</td>\n",
              "      <td>60.20</td>\n",
              "      <td>3.0 M AMMONIUM SULFATE, 20 MM TRIS, 1MM EDTA, ...</td>\n",
              "      <td>9.0</td>\n",
              "      <td>1999.0</td>\n",
              "    </tr>\n",
              "    <tr>\n",
              "      <th>3</th>\n",
              "      <td>102D</td>\n",
              "      <td>DNA</td>\n",
              "      <td>X-RAY DIFFRACTION</td>\n",
              "      <td>DNA</td>\n",
              "      <td>24</td>\n",
              "      <td>2.20</td>\n",
              "      <td>7637.17</td>\n",
              "      <td>VAPOR DIFFUSION, SITTING DROP</td>\n",
              "      <td>277.0</td>\n",
              "      <td>2.28</td>\n",
              "      <td>46.06</td>\n",
              "      <td>pH 7.00, VAPOR DIFFUSION, SITTING DROP, temper...</td>\n",
              "      <td>7.0</td>\n",
              "      <td>1995.0</td>\n",
              "    </tr>\n",
              "    <tr>\n",
              "      <th>4</th>\n",
              "      <td>102L</td>\n",
              "      <td>HYDROLASE(O-GLYCOSYL)</td>\n",
              "      <td>X-RAY DIFFRACTION</td>\n",
              "      <td>Protein</td>\n",
              "      <td>165</td>\n",
              "      <td>1.74</td>\n",
              "      <td>18926.61</td>\n",
              "      <td>NaN</td>\n",
              "      <td>NaN</td>\n",
              "      <td>2.75</td>\n",
              "      <td>55.28</td>\n",
              "      <td>NaN</td>\n",
              "      <td>NaN</td>\n",
              "      <td>1993.0</td>\n",
              "    </tr>\n",
              "    <tr>\n",
              "      <th>...</th>\n",
              "      <td>...</td>\n",
              "      <td>...</td>\n",
              "      <td>...</td>\n",
              "      <td>...</td>\n",
              "      <td>...</td>\n",
              "      <td>...</td>\n",
              "      <td>...</td>\n",
              "      <td>...</td>\n",
              "      <td>...</td>\n",
              "      <td>...</td>\n",
              "      <td>...</td>\n",
              "      <td>...</td>\n",
              "      <td>...</td>\n",
              "      <td>...</td>\n",
              "    </tr>\n",
              "    <tr>\n",
              "      <th>141396</th>\n",
              "      <td>9RUB</td>\n",
              "      <td>LYASE(CARBON-CARBON)</td>\n",
              "      <td>X-RAY DIFFRACTION</td>\n",
              "      <td>Protein</td>\n",
              "      <td>932</td>\n",
              "      <td>2.60</td>\n",
              "      <td>101838.68</td>\n",
              "      <td>NaN</td>\n",
              "      <td>NaN</td>\n",
              "      <td>2.38</td>\n",
              "      <td>48.29</td>\n",
              "      <td>NaN</td>\n",
              "      <td>NaN</td>\n",
              "      <td>1991.0</td>\n",
              "    </tr>\n",
              "    <tr>\n",
              "      <th>141397</th>\n",
              "      <td>9TNA</td>\n",
              "      <td>T-RNA</td>\n",
              "      <td>X-RAY DIFFRACTION</td>\n",
              "      <td>NaN</td>\n",
              "      <td>0</td>\n",
              "      <td>NaN</td>\n",
              "      <td>24244.34</td>\n",
              "      <td>NaN</td>\n",
              "      <td>NaN</td>\n",
              "      <td>3.17</td>\n",
              "      <td>61.18</td>\n",
              "      <td>NaN</td>\n",
              "      <td>NaN</td>\n",
              "      <td>1986.0</td>\n",
              "    </tr>\n",
              "    <tr>\n",
              "      <th>141398</th>\n",
              "      <td>9WGA</td>\n",
              "      <td>LECTIN (AGGLUTININ)</td>\n",
              "      <td>X-RAY DIFFRACTION</td>\n",
              "      <td>Protein</td>\n",
              "      <td>342</td>\n",
              "      <td>1.80</td>\n",
              "      <td>34270.22</td>\n",
              "      <td>NaN</td>\n",
              "      <td>NaN</td>\n",
              "      <td>2.50</td>\n",
              "      <td>50.76</td>\n",
              "      <td>NaN</td>\n",
              "      <td>NaN</td>\n",
              "      <td>1990.0</td>\n",
              "    </tr>\n",
              "    <tr>\n",
              "      <th>141399</th>\n",
              "      <td>9XIA</td>\n",
              "      <td>ISOMERASE(INTRAMOLECULAR OXIDOREDUCTASE)</td>\n",
              "      <td>X-RAY DIFFRACTION</td>\n",
              "      <td>Protein</td>\n",
              "      <td>388</td>\n",
              "      <td>1.90</td>\n",
              "      <td>43542.29</td>\n",
              "      <td>NaN</td>\n",
              "      <td>NaN</td>\n",
              "      <td>2.79</td>\n",
              "      <td>55.93</td>\n",
              "      <td>NaN</td>\n",
              "      <td>NaN</td>\n",
              "      <td>1989.0</td>\n",
              "    </tr>\n",
              "    <tr>\n",
              "      <th>141400</th>\n",
              "      <td>9XIM</td>\n",
              "      <td>ISOMERASE(INTRAMOLECULAR OXIDOREDUCTASE)</td>\n",
              "      <td>X-RAY DIFFRACTION</td>\n",
              "      <td>Protein</td>\n",
              "      <td>1572</td>\n",
              "      <td>2.40</td>\n",
              "      <td>174722.12</td>\n",
              "      <td>NaN</td>\n",
              "      <td>NaN</td>\n",
              "      <td>3.96</td>\n",
              "      <td>68.92</td>\n",
              "      <td>NaN</td>\n",
              "      <td>NaN</td>\n",
              "      <td>1992.0</td>\n",
              "    </tr>\n",
              "  </tbody>\n",
              "</table>\n",
              "<p>141401 rows × 14 columns</p>\n",
              "</div>"
            ],
            "text/plain": [
              "       structureId  ... publicationYear\n",
              "0             100D  ...          1994.0\n",
              "1             101D  ...          1995.0\n",
              "2             101M  ...          1999.0\n",
              "3             102D  ...          1995.0\n",
              "4             102L  ...          1993.0\n",
              "...            ...  ...             ...\n",
              "141396        9RUB  ...          1991.0\n",
              "141397        9TNA  ...          1986.0\n",
              "141398        9WGA  ...          1990.0\n",
              "141399        9XIA  ...          1989.0\n",
              "141400        9XIM  ...          1992.0\n",
              "\n",
              "[141401 rows x 14 columns]"
            ]
          },
          "metadata": {
            "tags": []
          },
          "execution_count": 2
        }
      ]
    },
    {
      "cell_type": "code",
      "metadata": {
        "id": "_1xTV0wcma2G",
        "colab_type": "code",
        "colab": {
          "base_uri": "https://localhost:8080/",
          "height": 272
        },
        "outputId": "2ccf8494-9842-4bec-8aa9-c4dfaf07e7df"
      },
      "source": [
        "df.dtypes"
      ],
      "execution_count": 4,
      "outputs": [
        {
          "output_type": "execute_result",
          "data": {
            "text/plain": [
              "structureId                  object\n",
              "classification               object\n",
              "experimentalTechnique        object\n",
              "macromoleculeType            object\n",
              "residueCount                  int64\n",
              "resolution                  float64\n",
              "structureMolecularWeight    float64\n",
              "crystallizationMethod        object\n",
              "crystallizationTempK        float64\n",
              "densityMatthews             float64\n",
              "densityPercentSol           float64\n",
              "pdbxDetails                  object\n",
              "phValue                     float64\n",
              "publicationYear             float64\n",
              "dtype: object"
            ]
          },
          "metadata": {
            "tags": []
          },
          "execution_count": 4
        }
      ]
    },
    {
      "cell_type": "markdown",
      "metadata": {
        "id": "Ir7qQWGggsst",
        "colab_type": "text"
      },
      "source": [
        ""
      ]
    },
    {
      "cell_type": "code",
      "metadata": {
        "id": "K8ylfgsEgs8c",
        "colab_type": "code",
        "colab": {
          "base_uri": "https://localhost:8080/",
          "height": 297
        },
        "outputId": "754b22ec-e7e0-4bb7-edaf-0b56b84651a4"
      },
      "source": [
        "df.describe()\n"
      ],
      "execution_count": 6,
      "outputs": [
        {
          "output_type": "execute_result",
          "data": {
            "text/html": [
              "<div>\n",
              "<style scoped>\n",
              "    .dataframe tbody tr th:only-of-type {\n",
              "        vertical-align: middle;\n",
              "    }\n",
              "\n",
              "    .dataframe tbody tr th {\n",
              "        vertical-align: top;\n",
              "    }\n",
              "\n",
              "    .dataframe thead th {\n",
              "        text-align: right;\n",
              "    }\n",
              "</style>\n",
              "<table border=\"1\" class=\"dataframe\">\n",
              "  <thead>\n",
              "    <tr style=\"text-align: right;\">\n",
              "      <th></th>\n",
              "      <th>residueCount</th>\n",
              "      <th>resolution</th>\n",
              "      <th>structureMolecularWeight</th>\n",
              "      <th>crystallizationTempK</th>\n",
              "      <th>densityMatthews</th>\n",
              "      <th>densityPercentSol</th>\n",
              "      <th>phValue</th>\n",
              "      <th>publicationYear</th>\n",
              "    </tr>\n",
              "  </thead>\n",
              "  <tbody>\n",
              "    <tr>\n",
              "      <th>count</th>\n",
              "      <td>141401.000000</td>\n",
              "      <td>128589.000000</td>\n",
              "      <td>1.414010e+05</td>\n",
              "      <td>97039.000000</td>\n",
              "      <td>124724.000000</td>\n",
              "      <td>124749.000000</td>\n",
              "      <td>105110.000000</td>\n",
              "      <td>117602.000000</td>\n",
              "    </tr>\n",
              "    <tr>\n",
              "      <th>mean</th>\n",
              "      <td>825.374849</td>\n",
              "      <td>2.263807</td>\n",
              "      <td>1.120790e+05</td>\n",
              "      <td>290.967713</td>\n",
              "      <td>2.670267</td>\n",
              "      <td>51.353163</td>\n",
              "      <td>6.788685</td>\n",
              "      <td>2008.922365</td>\n",
              "    </tr>\n",
              "    <tr>\n",
              "      <th>std</th>\n",
              "      <td>2136.461080</td>\n",
              "      <td>1.410878</td>\n",
              "      <td>5.690152e+05</td>\n",
              "      <td>9.541080</td>\n",
              "      <td>0.783740</td>\n",
              "      <td>10.104561</td>\n",
              "      <td>2.556819</td>\n",
              "      <td>8.459286</td>\n",
              "    </tr>\n",
              "    <tr>\n",
              "      <th>min</th>\n",
              "      <td>0.000000</td>\n",
              "      <td>0.480000</td>\n",
              "      <td>3.143800e+02</td>\n",
              "      <td>4.000000</td>\n",
              "      <td>0.000000</td>\n",
              "      <td>0.000000</td>\n",
              "      <td>0.000000</td>\n",
              "      <td>201.000000</td>\n",
              "    </tr>\n",
              "    <tr>\n",
              "      <th>25%</th>\n",
              "      <td>226.000000</td>\n",
              "      <td>1.800000</td>\n",
              "      <td>2.612856e+04</td>\n",
              "      <td>290.000000</td>\n",
              "      <td>2.210000</td>\n",
              "      <td>44.370000</td>\n",
              "      <td>6.000000</td>\n",
              "      <td>2005.000000</td>\n",
              "    </tr>\n",
              "    <tr>\n",
              "      <th>50%</th>\n",
              "      <td>414.000000</td>\n",
              "      <td>2.100000</td>\n",
              "      <td>4.747779e+04</td>\n",
              "      <td>293.000000</td>\n",
              "      <td>2.490000</td>\n",
              "      <td>50.500000</td>\n",
              "      <td>7.000000</td>\n",
              "      <td>2010.000000</td>\n",
              "    </tr>\n",
              "    <tr>\n",
              "      <th>75%</th>\n",
              "      <td>820.000000</td>\n",
              "      <td>2.500000</td>\n",
              "      <td>9.408484e+04</td>\n",
              "      <td>295.000000</td>\n",
              "      <td>2.910000</td>\n",
              "      <td>57.710000</td>\n",
              "      <td>7.500000</td>\n",
              "      <td>2014.000000</td>\n",
              "    </tr>\n",
              "    <tr>\n",
              "      <th>max</th>\n",
              "      <td>313236.000000</td>\n",
              "      <td>70.000000</td>\n",
              "      <td>9.773054e+07</td>\n",
              "      <td>398.000000</td>\n",
              "      <td>99.000000</td>\n",
              "      <td>92.000000</td>\n",
              "      <td>724.000000</td>\n",
              "      <td>2018.000000</td>\n",
              "    </tr>\n",
              "  </tbody>\n",
              "</table>\n",
              "</div>"
            ],
            "text/plain": [
              "        residueCount     resolution  ...        phValue  publicationYear\n",
              "count  141401.000000  128589.000000  ...  105110.000000    117602.000000\n",
              "mean      825.374849       2.263807  ...       6.788685      2008.922365\n",
              "std      2136.461080       1.410878  ...       2.556819         8.459286\n",
              "min         0.000000       0.480000  ...       0.000000       201.000000\n",
              "25%       226.000000       1.800000  ...       6.000000      2005.000000\n",
              "50%       414.000000       2.100000  ...       7.000000      2010.000000\n",
              "75%       820.000000       2.500000  ...       7.500000      2014.000000\n",
              "max    313236.000000      70.000000  ...     724.000000      2018.000000\n",
              "\n",
              "[8 rows x 8 columns]"
            ]
          },
          "metadata": {
            "tags": []
          },
          "execution_count": 6
        }
      ]
    },
    {
      "cell_type": "code",
      "metadata": {
        "id": "6aXeE9paoi7_",
        "colab_type": "code",
        "colab": {
          "base_uri": "https://localhost:8080/",
          "height": 272
        },
        "outputId": "dd7bfc35-c475-4758-e5ac-c71fe5f3c92c"
      },
      "source": [
        "round(df.isnull().mean()*100,2)"
      ],
      "execution_count": 7,
      "outputs": [
        {
          "output_type": "execute_result",
          "data": {
            "text/plain": [
              "structureId                  0.00\n",
              "classification               0.00\n",
              "experimentalTechnique        0.00\n",
              "macromoleculeType            2.66\n",
              "residueCount                 0.00\n",
              "resolution                   9.06\n",
              "structureMolecularWeight     0.00\n",
              "crystallizationMethod       31.94\n",
              "crystallizationTempK        31.37\n",
              "densityMatthews             11.79\n",
              "densityPercentSol           11.78\n",
              "pdbxDetails                 16.17\n",
              "phValue                     25.67\n",
              "publicationYear             16.83\n",
              "dtype: float64"
            ]
          },
          "metadata": {
            "tags": []
          },
          "execution_count": 7
        }
      ]
    },
    {
      "cell_type": "code",
      "metadata": {
        "id": "-GhO_pxNpMQW",
        "colab_type": "code",
        "colab": {}
      },
      "source": [
        "# elinando as colunafeatures que não serão usadas\n",
        "df.drop(['structureId','pdbxDetails','publicationYear'], inplace=True, axis=1)\n"
      ],
      "execution_count": 0,
      "outputs": []
    },
    {
      "cell_type": "code",
      "metadata": {
        "id": "EhymHyLsqdGQ",
        "colab_type": "code",
        "colab": {
          "base_uri": "https://localhost:8080/",
          "height": 204
        },
        "outputId": "9a782e57-32ad-45dd-f9ec-cb6a6874ecf2"
      },
      "source": [
        "df.head()"
      ],
      "execution_count": 12,
      "outputs": [
        {
          "output_type": "execute_result",
          "data": {
            "text/html": [
              "<div>\n",
              "<style scoped>\n",
              "    .dataframe tbody tr th:only-of-type {\n",
              "        vertical-align: middle;\n",
              "    }\n",
              "\n",
              "    .dataframe tbody tr th {\n",
              "        vertical-align: top;\n",
              "    }\n",
              "\n",
              "    .dataframe thead th {\n",
              "        text-align: right;\n",
              "    }\n",
              "</style>\n",
              "<table border=\"1\" class=\"dataframe\">\n",
              "  <thead>\n",
              "    <tr style=\"text-align: right;\">\n",
              "      <th></th>\n",
              "      <th>classification</th>\n",
              "      <th>experimentalTechnique</th>\n",
              "      <th>macromoleculeType</th>\n",
              "      <th>residueCount</th>\n",
              "      <th>resolution</th>\n",
              "      <th>structureMolecularWeight</th>\n",
              "      <th>crystallizationMethod</th>\n",
              "      <th>crystallizationTempK</th>\n",
              "      <th>densityMatthews</th>\n",
              "      <th>densityPercentSol</th>\n",
              "      <th>phValue</th>\n",
              "    </tr>\n",
              "  </thead>\n",
              "  <tbody>\n",
              "    <tr>\n",
              "      <th>0</th>\n",
              "      <td>DNA-RNA HYBRID</td>\n",
              "      <td>X-RAY DIFFRACTION</td>\n",
              "      <td>DNA/RNA Hybrid</td>\n",
              "      <td>20</td>\n",
              "      <td>1.90</td>\n",
              "      <td>6360.30</td>\n",
              "      <td>VAPOR DIFFUSION, HANGING DROP</td>\n",
              "      <td>NaN</td>\n",
              "      <td>1.78</td>\n",
              "      <td>30.89</td>\n",
              "      <td>7.0</td>\n",
              "    </tr>\n",
              "    <tr>\n",
              "      <th>1</th>\n",
              "      <td>DNA</td>\n",
              "      <td>X-RAY DIFFRACTION</td>\n",
              "      <td>DNA</td>\n",
              "      <td>24</td>\n",
              "      <td>2.25</td>\n",
              "      <td>7939.35</td>\n",
              "      <td>NaN</td>\n",
              "      <td>NaN</td>\n",
              "      <td>2.00</td>\n",
              "      <td>38.45</td>\n",
              "      <td>NaN</td>\n",
              "    </tr>\n",
              "    <tr>\n",
              "      <th>2</th>\n",
              "      <td>OXYGEN TRANSPORT</td>\n",
              "      <td>X-RAY DIFFRACTION</td>\n",
              "      <td>Protein</td>\n",
              "      <td>154</td>\n",
              "      <td>2.07</td>\n",
              "      <td>18112.80</td>\n",
              "      <td>NaN</td>\n",
              "      <td>NaN</td>\n",
              "      <td>3.09</td>\n",
              "      <td>60.20</td>\n",
              "      <td>9.0</td>\n",
              "    </tr>\n",
              "    <tr>\n",
              "      <th>3</th>\n",
              "      <td>DNA</td>\n",
              "      <td>X-RAY DIFFRACTION</td>\n",
              "      <td>DNA</td>\n",
              "      <td>24</td>\n",
              "      <td>2.20</td>\n",
              "      <td>7637.17</td>\n",
              "      <td>VAPOR DIFFUSION, SITTING DROP</td>\n",
              "      <td>277.0</td>\n",
              "      <td>2.28</td>\n",
              "      <td>46.06</td>\n",
              "      <td>7.0</td>\n",
              "    </tr>\n",
              "    <tr>\n",
              "      <th>4</th>\n",
              "      <td>HYDROLASE(O-GLYCOSYL)</td>\n",
              "      <td>X-RAY DIFFRACTION</td>\n",
              "      <td>Protein</td>\n",
              "      <td>165</td>\n",
              "      <td>1.74</td>\n",
              "      <td>18926.61</td>\n",
              "      <td>NaN</td>\n",
              "      <td>NaN</td>\n",
              "      <td>2.75</td>\n",
              "      <td>55.28</td>\n",
              "      <td>NaN</td>\n",
              "    </tr>\n",
              "  </tbody>\n",
              "</table>\n",
              "</div>"
            ],
            "text/plain": [
              "          classification experimentalTechnique  ... densityPercentSol  phValue\n",
              "0         DNA-RNA HYBRID     X-RAY DIFFRACTION  ...             30.89      7.0\n",
              "1                    DNA     X-RAY DIFFRACTION  ...             38.45      NaN\n",
              "2       OXYGEN TRANSPORT     X-RAY DIFFRACTION  ...             60.20      9.0\n",
              "3                    DNA     X-RAY DIFFRACTION  ...             46.06      7.0\n",
              "4  HYDROLASE(O-GLYCOSYL)     X-RAY DIFFRACTION  ...             55.28      NaN\n",
              "\n",
              "[5 rows x 11 columns]"
            ]
          },
          "metadata": {
            "tags": []
          },
          "execution_count": 12
        }
      ]
    },
    {
      "cell_type": "code",
      "metadata": {
        "id": "3T8KP7SxqgY2",
        "colab_type": "code",
        "colab": {}
      },
      "source": [
        "#eliminado todos os registro que possuem algum valor nula em qulaqueer feature\n",
        "df.dropna(inplace=True)"
      ],
      "execution_count": 0,
      "outputs": []
    },
    {
      "cell_type": "code",
      "metadata": {
        "id": "S3L5_bw_q7YO",
        "colab_type": "code",
        "colab": {}
      },
      "source": [
        ""
      ],
      "execution_count": 0,
      "outputs": []
    },
    {
      "cell_type": "code",
      "metadata": {
        "colab_type": "code",
        "outputId": "1b7b2a62-2509-4017-f823-81083cffbfac",
        "id": "1tWUFbTlrAdC",
        "colab": {
          "base_uri": "https://localhost:8080/",
          "height": 221
        }
      },
      "source": [
        "round(df.isnull().mean()*100,2)\n"
      ],
      "execution_count": 27,
      "outputs": [
        {
          "output_type": "execute_result",
          "data": {
            "text/plain": [
              "classification              0.0\n",
              "experimentalTechnique       0.0\n",
              "macromoleculeType           0.0\n",
              "residueCount                0.0\n",
              "resolution                  0.0\n",
              "structureMolecularWeight    0.0\n",
              "crystallizationMethod       0.0\n",
              "crystallizationTempK        0.0\n",
              "densityMatthews             0.0\n",
              "densityPercentSol           0.0\n",
              "phValue                     0.0\n",
              "dtype: float64"
            ]
          },
          "metadata": {
            "tags": []
          },
          "execution_count": 27
        }
      ]
    },
    {
      "cell_type": "code",
      "metadata": {
        "id": "6Ru7nsrusIj4",
        "colab_type": "code",
        "colab": {
          "base_uri": "https://localhost:8080/",
          "height": 34
        },
        "outputId": "593b4457-2eec-47f5-ed78-b9bb9d748a56"
      },
      "source": [
        "df.shape"
      ],
      "execution_count": 28,
      "outputs": [
        {
          "output_type": "execute_result",
          "data": {
            "text/plain": [
              "(81369, 11)"
            ]
          },
          "metadata": {
            "tags": []
          },
          "execution_count": 28
        }
      ]
    },
    {
      "cell_type": "code",
      "metadata": {
        "id": "DMOXUM8jsQL-",
        "colab_type": "code",
        "colab": {}
      },
      "source": [
        "#Após remover os nulos mantivemos 81369 de 141401 registros (57.5% da base)\n"
      ],
      "execution_count": 0,
      "outputs": []
    },
    {
      "cell_type": "markdown",
      "metadata": {
        "id": "44I8l1IzgeC3",
        "colab_type": "text"
      },
      "source": [
        "### 4) **(60%)** Nos blocos seguintes construa análises que vão justificar suas conclusões."
      ]
    },
    {
      "cell_type": "markdown",
      "metadata": {
        "id": "8z27KhbTgeC4",
        "colab_type": "text"
      },
      "source": [
        "#### 4.1) **(20%)** Análise 1 -  Distribuição dos valores para cada uma das variáveis\n",
        "- Exemplo para variável contínua: se o conjunto de dados possui a variável \"idade\". Quantos % possui a idade entre 0 e 30 anos? 31 a 59? 60+?\n",
        "\n",
        "- Exemplo para variável discreta: se o conjunto de dados possui a variável \"gênero\", quantos % do conjunto de dados é do sexo feminino, quantos % é masculino? Inclua outros gêneros se houver.\n"
      ]
    },
    {
      "cell_type": "markdown",
      "metadata": {
        "id": "G-NVeO8ogeC6",
        "colab_type": "text"
      },
      "source": [
        "#### 4.2) **(20%)** Análise 2 - Dependência entre variáveis\n",
        "O aluno deve apresentar as mesmas distribuições para cada valor da variável dependente. Exemplo: Em um conjunto de dados em que as variáveis independentes são idade e sexo, e a variável dependente é renda. O aluno pode dividir a renda em 3 \"grupos\", <1000 reais, entre 1000 e 10000 reais e >1000 reais. Para cada um desses grupos, é necessário apresentar a distribuição das variáveis \"idade\" e \"sexo\".\n"
      ]
    },
    {
      "cell_type": "code",
      "metadata": {
        "id": "t_fE4QfhgeC7",
        "colab_type": "code",
        "colab": {}
      },
      "source": [
        "# Implemente sua análise aqui. Use mais blocos se achar que ficará mais organizado."
      ],
      "execution_count": 0,
      "outputs": []
    },
    {
      "cell_type": "markdown",
      "metadata": {
        "id": "Qc1ryRu1geC9",
        "colab_type": "text"
      },
      "source": [
        "#### 4.3) **(20%)** Análise 3 - Correlação entre variáveis\n",
        "\n",
        "O aluno deve apresentar 3 análises de correlação entre variáveis do conjunto de dados trabalhado. Exemplo: Em um conjunto de dados com as informações de temperatura e ocorrência de incêndios, eu gostaria de saber a incidência de correlação entre as duas variáveis.\n",
        "\n"
      ]
    },
    {
      "cell_type": "code",
      "metadata": {
        "id": "uhntP2iCgeC-",
        "colab_type": "code",
        "colab": {}
      },
      "source": [
        "# Primeiro par de variáveis: Implemente sua análise aqui. Use mais blocos se achar que ficará mais organizado."
      ],
      "execution_count": 0,
      "outputs": []
    },
    {
      "cell_type": "code",
      "metadata": {
        "id": "wJYmoJgNgeDA",
        "colab_type": "code",
        "colab": {}
      },
      "source": [
        "# Segundo par de variáveis: Implemente sua análise aqui. Use mais blocos se achar que ficará mais organizado."
      ],
      "execution_count": 0,
      "outputs": []
    },
    {
      "cell_type": "code",
      "metadata": {
        "id": "FVP1sPvJgeDB",
        "colab_type": "code",
        "colab": {}
      },
      "source": [
        "# Terceiro par de variáveis: Implemente sua análise aqui. Use mais blocos se achar que ficará mais organizado."
      ],
      "execution_count": 0,
      "outputs": []
    },
    {
      "cell_type": "markdown",
      "metadata": {
        "id": "fRRQOPkbgeDD",
        "colab_type": "text"
      },
      "source": [
        "### 5) Conclusões **15%**"
      ]
    },
    {
      "cell_type": "markdown",
      "metadata": {
        "id": "dsuusdsPgeDE",
        "colab_type": "text"
      },
      "source": [
        "*O que é possível concluir com os dados que você analisou? Se fosse fazer uma apresentação, o que levaria como os maiores destaques e por que?*"
      ]
    },
    {
      "cell_type": "markdown",
      "metadata": {
        "id": "56-4JaUJgeDF",
        "colab_type": "text"
      },
      "source": [
        ""
      ]
    }
  ]
}